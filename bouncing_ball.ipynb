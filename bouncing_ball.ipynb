{
 "cells": [
  {
   "cell_type": "markdown",
   "metadata": {},
   "source": [
    "# Measuring a room with a golf ball\n",
    "\n",
    "We want to measure the height of the room we are in, but all we have to hand are a regulation golf ball, python and all the cleverness we can bring to bear.\n",
    "\n",
    "## Beast mode question!\n",
    "Older students should have a working knowledge of physics including how things move under gravity. Give them no explanation.\n",
    "\n",
    "Ask them to open the Voice Recorder app in windows. When they are all ready and recording, hold the golf ball to the ceiling and let it drop. Once it has bounced a several times, catch it, and ask how tall the room is.\n",
    "\n",
    "## FAQ\n",
    "1. The recording doesn't indicate when the ball was initially released.  \n",
    "Yes. That was on purpose.\n",
    "2. The ball would be affected by air resistance/uneven bounciness/floor covering.  \n",
    "Yes. What other assumptions have we made? How can these be reasonably controlled? We can code a solver based on the data we already have, and gather improved data to use with it next time.\n",
    "\n",
    "## Taming the beast\n",
    "If the student can't see how to dissect the problem, ask the following easier questions.\n",
    "\n",
    "How high did the ball bounce first time? The recording does tell us when it hit the ground for the first and second time so we can use that to work out how long the ball was in the air for and so work out how high it went.\n",
    "\n",
    "How high did the ball bounce second time? How much less did it bounce?\n",
    "\n",
    "These questions should be easier to tackle and will guide the student to seeing how to work out how far the ball originally fell for."
   ]
  },
  {
   "cell_type": "markdown",
   "metadata": {},
   "source": [
    "## Modelling the problem\n",
    "\n",
    "The ball starts at the ceiling with the potential energy it gained by being lifted by the experimenter. As it falls that potential energy is transformed into kinetic energy. It will then hit the ground and lose energy to sound and to the ball itself deforming, then it will bounce up to a lesser height than before.\n",
    "\n",
    "This can be modelled with the program below. Note that for the demonstration we have assumed that the height of the room is 3m and the bounciness of the ball is 0.75."
   ]
  },
  {
   "cell_type": "code",
   "execution_count": 14,
   "metadata": {},
   "outputs": [
    {
     "name": "stdout",
     "output_type": "stream",
     "text": [
      "Ball hit the ground at 0.782 seconds\n",
      "Ball hit the ground at 1.957 seconds\n",
      "Ball hit the ground at 2.840 seconds\n",
      "Ball hit the ground at 3.504 seconds\n",
      "Ball hit the ground at 4.003 seconds\n",
      "Ball hit the ground at 4.378 seconds\n",
      "Ball hit the ground at 4.660 seconds\n",
      "Ball hit the ground at 4.872 seconds\n",
      "Ball hit the ground at 5.032 seconds\n",
      "Ball hit the ground at 5.153 seconds\n",
      "Stopped simulation at t=5.154\n"
     ]
    },
    {
     "data": {
      "image/png": "[encoded data removed]",
      "text/plain": [
       "<Figure size 432x288 with 1 Axes>"
      ]
     },
     "metadata": {
      "needs_background": "light"
     },
     "output_type": "display_data"
    }
   ],
   "source": [
    "from math import sqrt\n",
    "import matplotlib.pyplot as plt\n",
    "#matplotlib inline\n",
    "\n",
    "#about the world\n",
    "gravity = 9.8         # m/s/s\n",
    "\n",
    "#about the room\n",
    "room_height = 3       # m\n",
    "\n",
    "#about the ball\n",
    "velocity = 0          # m/s\n",
    "bounciness = 0.75     # how bouncy is the ball\n",
    "height = room_height\n",
    "\n",
    "#about the simulation\n",
    "time = 0          \n",
    "time_step = 0.001\n",
    "bounces = 0\n",
    "maximum_bounces = 10\n",
    "\n",
    "#Lists to collect the data points we work out\n",
    "H = []\n",
    "T = []\n",
    "\n",
    "#run the simulation\n",
    "while(bounces < maximum_bounces):\n",
    "    next_height = height + velocity*time_step\n",
    "    \n",
    "    if(next_height<=0):\n",
    "        #the ball has hit the ground\n",
    "        height = 0\n",
    "        velocity = -1 * velocity * bounciness\n",
    "        bounces = bounces + 1\n",
    "        print(f\"Ball hit the ground at {time:.3f} seconds\")\n",
    "    else:\n",
    "        #the ball is still falling\n",
    "        velocity = velocity - gravity*time_step\n",
    "        height = next_height\n",
    "    \n",
    "    time = time + time_step\n",
    "    H.append(height)\n",
    "    T.append(time)\n",
    "\n",
    "print(f\"Stopped simulation at t={time:.3f}\")\n",
    "\n",
    "#plot the simulation\n",
    "plt.figure()\n",
    "plt.plot(T, H)\n",
    "plt.xlabel('time')\n",
    "plt.ylabel('height')\n",
    "plt.title('bouncing ball')\n",
    "plt.show()"
   ]
  },
  {
   "cell_type": "markdown",
   "metadata": {},
   "source": [
    "## How bouncy is the ball?\n",
    "\n",
    "The ratio of the time between the first and second bounce and the second and third bounce tells us how bouncy the ball is. In the example above the ball hits the ground for the first time at 1.010s after being dropped. It lands for the second time at 2.625s and for the third time at 3.862s. Note that the first fall is short because it's only measuring the drop, not the bounce and drop.\n",
    "\n",
    "From those times we can work out how long the first and second complete bounces took, and from that work out a value for how bouncy the ball is."
   ]
  },
  {
   "cell_type": "code",
   "execution_count": 15,
   "metadata": {},
   "outputs": [
    {
     "name": "stdout",
     "output_type": "stream",
     "text": [
      "The ball has a bounciness value of 0.751\n"
     ]
    }
   ],
   "source": [
    "first_bounce = 0.782\n",
    "second_bounce = 1.957\n",
    "third_bounce = 2.840\n",
    "\n",
    "first_flight = second_bounce - first_bounce\n",
    "second_flight = third_bounce - second_bounce\n",
    "\n",
    "bounciness = second_flight / first_flight\n",
    "\n",
    "print(f\"The ball has a bounciness value of {bounciness:.3f}\")"
   ]
  },
  {
   "cell_type": "markdown",
   "metadata": {},
   "source": [
    "## How high does the ball bounce?\n",
    "\n",
    "We can use the fact that all objects fall at the same rate under gravity. The ball spends half the time between bounces in free fall and the formula for how far an object falls under gravity over time is: $$distance fallen = \\frac{1}{2} * gravity * time^2$$\n",
    "\n",
    "Since we know it spends half the time in freefall we can reuse the times calculated above to work out how high it went on each bounce"
   ]
  },
  {
   "cell_type": "code",
   "execution_count": 16,
   "metadata": {},
   "outputs": [
    {
     "name": "stdout",
     "output_type": "stream",
     "text": [
      "The original height was 2.995\n"
     ]
    }
   ],
   "source": [
    "def get_bounce_height(bounce_time):\n",
    "    freefall_time = bounce_time/2\n",
    "    return 1/2 * gravity * freefall_time**2\n",
    "\n",
    "first_bounce_height = get_bounce_height(first_flight)\n",
    "second_bounce_height = get_bounce_height(second_flight)\n",
    "\n",
    "bounciness = second_bounce_height / first_bounce_height\n",
    "\n",
    "print(f\"The original height was {first_bounce_height/bounciness:.3f}\")"
   ]
  },
  {
   "cell_type": "markdown",
   "metadata": {},
   "source": [
    "## Recording data from the experiment\n",
    "\n",
    "There are a few options for getting the bounce times from the recording. The simplest would be to write a program that notes the time whenever the return key is pressed. The students can replay the recording and press return when they hear the ball bounce."
   ]
  },
  {
   "cell_type": "code",
   "execution_count": 25,
   "metadata": {},
   "outputs": [
    {
     "name": "stdin",
     "output_type": "stream",
     "text": [
      "Press return when the ball hits the ground \n"
     ]
    },
    {
     "name": "stdout",
     "output_type": "stream",
     "text": [
      "time is 1583783451.8128846\n"
     ]
    },
    {
     "name": "stdin",
     "output_type": "stream",
     "text": [
      "Press return when the ball hits the ground \n"
     ]
    },
    {
     "name": "stdout",
     "output_type": "stream",
     "text": [
      "time is 1583783452.9472766\n"
     ]
    },
    {
     "name": "stdin",
     "output_type": "stream",
     "text": [
      "Press return when the ball hits the ground \n"
     ]
    },
    {
     "name": "stdout",
     "output_type": "stream",
     "text": [
      "time is 1583783453.932362\n"
     ]
    },
    {
     "name": "stdin",
     "output_type": "stream",
     "text": [
      "Press return when the ball hits the ground \n"
     ]
    },
    {
     "name": "stdout",
     "output_type": "stream",
     "text": [
      "time is 1583783454.9137487\n",
      "The flight times were [1.1343920230865479, 0.9850854873657227, 0.981386661529541]\n",
      "The bounce heights were [1.576385446001929, 1.1887319363377402, 1.17982172979942]\n",
      "The bounciness values were [0.7540871043643761, 0.9925044442182895]\n",
      "The starting height was 2.090\n"
     ]
    }
   ],
   "source": [
    "import time\n",
    "\n",
    "times = []\n",
    "for _ in range(4):\n",
    "    input(\"Press return when the ball hits the ground\")\n",
    "    t = time.time() #returns the current time in seconds. Numbers after the decimal are fractions of a second\n",
    "    print(f\"time is {t}\")\n",
    "    times.append(t)\n",
    "\n",
    "flights = [t2 - t1 for t1,t2 in zip(times, times[1:])]\n",
    "heights = [get_bounce_height(f) for f in flights]\n",
    "rhos = [h2/h1 for h1,h2 in zip(heights, heights[1:])]\n",
    "\n",
    "print(f\"The flight times were {flights}\")\n",
    "print(f\"The bounce heights were {heights}\")\n",
    "print(f\"The bounciness values were {rhos}\")\n",
    "print(f\"The starting height was {heights[0]/rhos[0]:.3f}\")"
   ]
  },
  {
   "cell_type": "markdown",
   "metadata": {},
   "source": [
    "## Processing the recording\n",
    "\n",
    "The method above is quick and easy, but suffers from human error to press the return key accurately. Perhaps with a few attempts the student could get a good answer, but a better option would be to get the computer to extract timing data from the recording.\n",
    "\n",
    "Direct them to the Wave module for processing the sound and tell them to look up the \"root mean square\" function to calculate the volume of any chunk of sound. The ball bouncing will be the loudest thing in the recording and they should be able to extract the impacts fairly easily.\n",
    "\n",
    "The Windows voice recorder records as m4a files rather than wav files so they will need to convert their recording before they can process it or find another python module that can process m4a files."
   ]
  },
  {
   "cell_type": "code",
   "execution_count": 18,
   "metadata": {},
   "outputs": [
    {
     "data": {
      "image/png": "[encoded data removed]",
      "text/plain": [
       "<Figure size 432x288 with 1 Axes>"
      ]
     },
     "metadata": {
      "needs_background": "light"
     },
     "output_type": "display_data"
    }
   ],
   "source": [
    "import math\n",
    "import struct\n",
    "import wave\n",
    "\n",
    "SAMPLES_PER_SECOND = 100\n",
    "\n",
    "#function to unpack the wav data\n",
    "def unpack_wav(block):\n",
    "    # we will get one short out for each \n",
    "    # two chars in the string.\n",
    "    count = len(block)/2\n",
    "    format = \"%dh\"%(count)\n",
    "    shorts = struct.unpack( format, block )\n",
    "    return shorts\n",
    "\n",
    "#function to calculate the RMS of a data block\n",
    "def get_rms(block):\n",
    "    # iterate over the block.\n",
    "    sum_squares = 0.0\n",
    "    count = len(block)\n",
    "    for sample in block:\n",
    "        sum_squares += sample**2\n",
    "\n",
    "    return math.sqrt( sum_squares / count )\n",
    "\n",
    "def get_blocks_from_wav(wavfile):\n",
    "\n",
    "    # open the file for reading.\n",
    "    wf = wave.open(wavfile, 'rb')\n",
    "\n",
    "    # getframerate tells us the bits per second. Divide by ten to get a sample every tenth of a second\n",
    "    block_size = int(wf.getframerate()/SAMPLES_PER_SECOND)\n",
    "\n",
    "    # read data (based on the block size)\n",
    "    data = wf.readframes(block_size)\n",
    "\n",
    "    while data != '':\n",
    "        try:\n",
    "            block = unpack_wav(data)\n",
    "            if len(block) == 0:\n",
    "                data = ''\n",
    "            else:\n",
    "                yield block\n",
    "                data = wf.readframes(block_size)\n",
    "        except:\n",
    "            raise StopIteration\n",
    "\n",
    "def get_rms_from_wav(wavfile):\n",
    "    volume = []\n",
    "    for block in get_blocks_from_wav(wavfile):\n",
    "        if len(block) > 0:\n",
    "            volume.append(get_rms(block))\n",
    "    return volume\n",
    "\n",
    "volume = get_rms_from_wav('Dropped golf ball.wav')\n",
    "\n",
    "#plot the rms data so we can double check the results\n",
    "import matplotlib.pyplot as plt\n",
    "import numpy as np\n",
    "\n",
    "fig = plt.figure()\n",
    "x = np.arange(0,len(volume)*SAMPLES_PER_SECOND,SAMPLES_PER_SECOND)\n",
    "y = np.array(volume)\n",
    "ax = fig.add_axes([0,0,1,1])\n",
    "ax.plot(x, y)\n",
    "ax.set_title(\"RMS levels\")\n",
    "ax.set_xlabel(\"time\")\n",
    "ax.set_ylabel(\"RMS\")\n",
    "plt.show()"
   ]
  },
  {
   "cell_type": "markdown",
   "metadata": {},
   "source": [
    "The sample recording has five clicks in it which we can see on the chart. We can extract the times when the volume was over a certain limit to work out when the clicks are and work back from there."
   ]
  },
  {
   "cell_type": "code",
   "execution_count": 26,
   "metadata": {},
   "outputs": [
    {
     "name": "stdout",
     "output_type": "stream",
     "text": [
      "The impacts were at [4.94, 6.13, 7.18, 8.1, 8.94]\n",
      "The flight times were [1.1899999999999995, 1.0499999999999998, 0.9199999999999999, 0.8399999999999999]\n",
      "The bounce heights were [1.7347224999999986, 1.3505624999999997, 1.0368399999999998, 0.8643599999999998]\n",
      "The bounciness values were [0.7785467128027685, 0.7677097505668934, 0.833648393194707]\n",
      "The starting height was 2.228\n"
     ]
    }
   ],
   "source": [
    "timestamp = 0\n",
    "impacts = []\n",
    "mid_hit = False\n",
    "IMPACT_TRIGGER_VOLUME = 200\n",
    "IMPACT_COMPLETE_VOLUME = 100\n",
    "\n",
    "for v in volume:\n",
    "    timestamp += 1\n",
    "    if not mid_hit and v > IMPACT_TRIGGER_VOLUME:\n",
    "        impacts.append(timestamp/SAMPLES_PER_SECOND)\n",
    "        mid_hit = True\n",
    "    if mid_hit and v < IMPACT_COMPLETE_VOLUME:\n",
    "        mid_hit = False\n",
    "\n",
    "flights = [i2 - i1 for i1, i2 in zip(impacts,impacts[1:])]\n",
    "heights = [get_bounce_height(f) for f in flights]\n",
    "rhos = [h2/h1 for h1,h2 in zip(heights, heights[1:])]\n",
    "\n",
    "print(f\"The impacts were at {impacts}\")\n",
    "print(f\"The flight times were {flights}\")\n",
    "print(f\"The bounce heights were {heights}\")\n",
    "print(f\"The bounciness values were {rhos}\")\n",
    "print(f\"The starting height was {heights[0]/rhos[0]:.3f}\")"
   ]
  },
  {
   "cell_type": "markdown",
   "metadata": {},
   "source": [
    "## In conclusion\n",
    "\n",
    "The ball was dropped from 2.32m and is 0.042m in diameter. How does this compare to the final result? How could the experiment be reasonably improved?\n"
   ]
  }
 ],
 "metadata": {
  "kernelspec": {
   "display_name": "Python 3",
   "language": "python",
   "name": "python3"
  },
  "language_info": {
   "codemirror_mode": {
    "name": "ipython",
    "version": 3
   },
   "file_extension": ".py",
   "mimetype": "text/x-python",
   "name": "python",
   "nbconvert_exporter": "python",
   "pygments_lexer": "ipython3",
   "version": "3.8.2"
  }
 },
 "nbformat": 4,
 "nbformat_minor": 4
}
